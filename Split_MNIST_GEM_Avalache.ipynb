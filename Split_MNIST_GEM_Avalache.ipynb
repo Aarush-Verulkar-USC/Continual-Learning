{
  "nbformat": 4,
  "nbformat_minor": 0,
  "metadata": {
    "colab": {
      "provenance": []
    },
    "kernelspec": {
      "name": "python3",
      "display_name": "Python 3"
    },
    "language_info": {
      "name": "python"
    }
  },
  "cells": [
    {
      "cell_type": "code",
      "execution_count": null,
      "metadata": {
        "colab": {
          "base_uri": "https://localhost:8080/"
        },
        "id": "7vfG7bP3Ki-t",
        "outputId": "eaadae02-3bce-4bde-ad36-95fb003e79da",
        "collapsed": true
      },
      "outputs": [
        {
          "output_type": "stream",
          "name": "stdout",
          "text": [
            "Collecting git+https://github.com/ContinualAI/avalanche.git\n",
            "  Cloning https://github.com/ContinualAI/avalanche.git to /tmp/pip-req-build-lv5hmg5r\n",
            "  Running command git clone --filter=blob:none --quiet https://github.com/ContinualAI/avalanche.git /tmp/pip-req-build-lv5hmg5r\n",
            "  Resolved https://github.com/ContinualAI/avalanche.git to commit 625e46d9203878ed51457f6d7cd8d4e9fb05d093\n",
            "  Installing build dependencies ... \u001b[?25l\u001b[?25hdone\n",
            "  Getting requirements to build wheel ... \u001b[?25l\u001b[?25hdone\n",
            "  Preparing metadata (pyproject.toml) ... \u001b[?25l\u001b[?25hdone\n",
            "Requirement already satisfied: typing-extensions>=4.6.0 in /usr/local/lib/python3.10/dist-packages (from avalanche-lib==0.6.0a0) (4.12.2)\n",
            "Requirement already satisfied: psutil in /usr/local/lib/python3.10/dist-packages (from avalanche-lib==0.6.0a0) (5.9.5)\n",
            "Collecting gputil (from avalanche-lib==0.6.0a0)\n",
            "  Downloading GPUtil-1.4.0.tar.gz (5.5 kB)\n",
            "  Preparing metadata (setup.py) ... \u001b[?25l\u001b[?25hdone\n",
            "Requirement already satisfied: scikit-learn in /usr/local/lib/python3.10/dist-packages (from avalanche-lib==0.6.0a0) (1.5.2)\n",
            "Requirement already satisfied: matplotlib in /usr/local/lib/python3.10/dist-packages (from avalanche-lib==0.6.0a0) (3.8.0)\n",
            "Requirement already satisfied: numpy in /usr/local/lib/python3.10/dist-packages (from avalanche-lib==0.6.0a0) (1.26.4)\n",
            "Collecting pytorchcv (from avalanche-lib==0.6.0a0)\n",
            "  Downloading pytorchcv-0.0.73-py2.py3-none-any.whl.metadata (134 kB)\n",
            "\u001b[2K     \u001b[90m━━━━━━━━━━━━━━━━━━━━━━━━━━━━━━━━━━━━━━━━\u001b[0m \u001b[32m134.2/134.2 kB\u001b[0m \u001b[31m4.3 MB/s\u001b[0m eta \u001b[36m0:00:00\u001b[0m\n",
            "\u001b[?25hRequirement already satisfied: wandb in /usr/local/lib/python3.10/dist-packages (from avalanche-lib==0.6.0a0) (0.18.7)\n",
            "Requirement already satisfied: tensorboard>=1.15 in /usr/local/lib/python3.10/dist-packages (from avalanche-lib==0.6.0a0) (2.17.1)\n",
            "Requirement already satisfied: tqdm in /usr/local/lib/python3.10/dist-packages (from avalanche-lib==0.6.0a0) (4.66.6)\n",
            "Requirement already satisfied: torch in /usr/local/lib/python3.10/dist-packages (from avalanche-lib==0.6.0a0) (2.5.1+cu121)\n",
            "Requirement already satisfied: torchvision in /usr/local/lib/python3.10/dist-packages (from avalanche-lib==0.6.0a0) (0.20.1+cu121)\n",
            "Collecting torchmetrics (from avalanche-lib==0.6.0a0)\n",
            "  Downloading torchmetrics-1.6.0-py3-none-any.whl.metadata (20 kB)\n",
            "Requirement already satisfied: gdown in /usr/local/lib/python3.10/dist-packages (from avalanche-lib==0.6.0a0) (5.2.0)\n",
            "Collecting qpsolvers[open_source_solvers] (from avalanche-lib==0.6.0a0)\n",
            "  Downloading qpsolvers-4.4.0-py3-none-any.whl.metadata (17 kB)\n",
            "Collecting dill (from avalanche-lib==0.6.0a0)\n",
            "  Downloading dill-0.3.9-py3-none-any.whl.metadata (10 kB)\n",
            "Requirement already satisfied: packaging in /usr/local/lib/python3.10/dist-packages (from avalanche-lib==0.6.0a0) (24.2)\n",
            "Requirement already satisfied: absl-py>=0.4 in /usr/local/lib/python3.10/dist-packages (from tensorboard>=1.15->avalanche-lib==0.6.0a0) (1.4.0)\n",
            "Requirement already satisfied: grpcio>=1.48.2 in /usr/local/lib/python3.10/dist-packages (from tensorboard>=1.15->avalanche-lib==0.6.0a0) (1.68.0)\n",
            "Requirement already satisfied: markdown>=2.6.8 in /usr/local/lib/python3.10/dist-packages (from tensorboard>=1.15->avalanche-lib==0.6.0a0) (3.7)\n",
            "Requirement already satisfied: protobuf!=4.24.0,>=3.19.6 in /usr/local/lib/python3.10/dist-packages (from tensorboard>=1.15->avalanche-lib==0.6.0a0) (4.25.5)\n",
            "Requirement already satisfied: setuptools>=41.0.0 in /usr/local/lib/python3.10/dist-packages (from tensorboard>=1.15->avalanche-lib==0.6.0a0) (75.1.0)\n",
            "Requirement already satisfied: six>1.9 in /usr/local/lib/python3.10/dist-packages (from tensorboard>=1.15->avalanche-lib==0.6.0a0) (1.16.0)\n",
            "Requirement already satisfied: tensorboard-data-server<0.8.0,>=0.7.0 in /usr/local/lib/python3.10/dist-packages (from tensorboard>=1.15->avalanche-lib==0.6.0a0) (0.7.2)\n",
            "Requirement already satisfied: werkzeug>=1.0.1 in /usr/local/lib/python3.10/dist-packages (from tensorboard>=1.15->avalanche-lib==0.6.0a0) (3.1.3)\n",
            "Requirement already satisfied: beautifulsoup4 in /usr/local/lib/python3.10/dist-packages (from gdown->avalanche-lib==0.6.0a0) (4.12.3)\n",
            "Requirement already satisfied: filelock in /usr/local/lib/python3.10/dist-packages (from gdown->avalanche-lib==0.6.0a0) (3.16.1)\n",
            "Requirement already satisfied: requests[socks] in /usr/local/lib/python3.10/dist-packages (from gdown->avalanche-lib==0.6.0a0) (2.32.3)\n",
            "Requirement already satisfied: contourpy>=1.0.1 in /usr/local/lib/python3.10/dist-packages (from matplotlib->avalanche-lib==0.6.0a0) (1.3.1)\n",
            "Requirement already satisfied: cycler>=0.10 in /usr/local/lib/python3.10/dist-packages (from matplotlib->avalanche-lib==0.6.0a0) (0.12.1)\n",
            "Requirement already satisfied: fonttools>=4.22.0 in /usr/local/lib/python3.10/dist-packages (from matplotlib->avalanche-lib==0.6.0a0) (4.55.0)\n",
            "Requirement already satisfied: kiwisolver>=1.0.1 in /usr/local/lib/python3.10/dist-packages (from matplotlib->avalanche-lib==0.6.0a0) (1.4.7)\n",
            "Requirement already satisfied: pillow>=6.2.0 in /usr/local/lib/python3.10/dist-packages (from matplotlib->avalanche-lib==0.6.0a0) (11.0.0)\n",
            "Requirement already satisfied: pyparsing>=2.3.1 in /usr/local/lib/python3.10/dist-packages (from matplotlib->avalanche-lib==0.6.0a0) (3.2.0)\n",
            "Requirement already satisfied: python-dateutil>=2.7 in /usr/local/lib/python3.10/dist-packages (from matplotlib->avalanche-lib==0.6.0a0) (2.8.2)\n",
            "Requirement already satisfied: scipy>=1.2.0 in /usr/local/lib/python3.10/dist-packages (from qpsolvers[open_source_solvers]->avalanche-lib==0.6.0a0) (1.13.1)\n",
            "Requirement already satisfied: joblib>=1.2.0 in /usr/local/lib/python3.10/dist-packages (from scikit-learn->avalanche-lib==0.6.0a0) (1.4.2)\n",
            "Requirement already satisfied: threadpoolctl>=3.1.0 in /usr/local/lib/python3.10/dist-packages (from scikit-learn->avalanche-lib==0.6.0a0) (3.5.0)\n",
            "Requirement already satisfied: networkx in /usr/local/lib/python3.10/dist-packages (from torch->avalanche-lib==0.6.0a0) (3.4.2)\n",
            "Requirement already satisfied: jinja2 in /usr/local/lib/python3.10/dist-packages (from torch->avalanche-lib==0.6.0a0) (3.1.4)\n",
            "Requirement already satisfied: fsspec in /usr/local/lib/python3.10/dist-packages (from torch->avalanche-lib==0.6.0a0) (2024.10.0)\n",
            "Requirement already satisfied: sympy==1.13.1 in /usr/local/lib/python3.10/dist-packages (from torch->avalanche-lib==0.6.0a0) (1.13.1)\n",
            "Requirement already satisfied: mpmath<1.4,>=1.1.0 in /usr/local/lib/python3.10/dist-packages (from sympy==1.13.1->torch->avalanche-lib==0.6.0a0) (1.3.0)\n",
            "Collecting lightning-utilities>=0.8.0 (from torchmetrics->avalanche-lib==0.6.0a0)\n",
            "  Downloading lightning_utilities-0.11.9-py3-none-any.whl.metadata (5.2 kB)\n",
            "Requirement already satisfied: click!=8.0.0,>=7.1 in /usr/local/lib/python3.10/dist-packages (from wandb->avalanche-lib==0.6.0a0) (8.1.7)\n",
            "Requirement already satisfied: docker-pycreds>=0.4.0 in /usr/local/lib/python3.10/dist-packages (from wandb->avalanche-lib==0.6.0a0) (0.4.0)\n",
            "Requirement already satisfied: gitpython!=3.1.29,>=1.0.0 in /usr/local/lib/python3.10/dist-packages (from wandb->avalanche-lib==0.6.0a0) (3.1.43)\n",
            "Requirement already satisfied: platformdirs in /usr/local/lib/python3.10/dist-packages (from wandb->avalanche-lib==0.6.0a0) (4.3.6)\n",
            "Requirement already satisfied: pyyaml in /usr/local/lib/python3.10/dist-packages (from wandb->avalanche-lib==0.6.0a0) (6.0.2)\n",
            "Requirement already satisfied: sentry-sdk>=2.0.0 in /usr/local/lib/python3.10/dist-packages (from wandb->avalanche-lib==0.6.0a0) (2.18.0)\n",
            "Requirement already satisfied: setproctitle in /usr/local/lib/python3.10/dist-packages (from wandb->avalanche-lib==0.6.0a0) (1.3.4)\n",
            "Requirement already satisfied: gitdb<5,>=4.0.1 in /usr/local/lib/python3.10/dist-packages (from gitpython!=3.1.29,>=1.0.0->wandb->avalanche-lib==0.6.0a0) (4.0.11)\n",
            "Requirement already satisfied: charset-normalizer<4,>=2 in /usr/local/lib/python3.10/dist-packages (from requests[socks]->gdown->avalanche-lib==0.6.0a0) (3.4.0)\n",
            "Requirement already satisfied: idna<4,>=2.5 in /usr/local/lib/python3.10/dist-packages (from requests[socks]->gdown->avalanche-lib==0.6.0a0) (3.10)\n",
            "Requirement already satisfied: urllib3<3,>=1.21.1 in /usr/local/lib/python3.10/dist-packages (from requests[socks]->gdown->avalanche-lib==0.6.0a0) (2.2.3)\n",
            "Requirement already satisfied: certifi>=2017.4.17 in /usr/local/lib/python3.10/dist-packages (from requests[socks]->gdown->avalanche-lib==0.6.0a0) (2024.8.30)\n",
            "Requirement already satisfied: MarkupSafe>=2.1.1 in /usr/local/lib/python3.10/dist-packages (from werkzeug>=1.0.1->tensorboard>=1.15->avalanche-lib==0.6.0a0) (3.0.2)\n",
            "Requirement already satisfied: soupsieve>1.2 in /usr/local/lib/python3.10/dist-packages (from beautifulsoup4->gdown->avalanche-lib==0.6.0a0) (2.6)\n",
            "Requirement already satisfied: cvxopt>=1.2.6 in /usr/local/lib/python3.10/dist-packages (from qpsolvers[open_source_solvers]->avalanche-lib==0.6.0a0) (1.3.2)\n",
            "Collecting quadprog>=0.1.11 (from qpsolvers[open_source_solvers]->avalanche-lib==0.6.0a0)\n",
            "  Downloading quadprog-0.1.13-cp310-cp310-manylinux_2_17_x86_64.manylinux2014_x86_64.whl.metadata (1.2 kB)\n",
            "Collecting highspy>=1.1.2.dev3 (from qpsolvers[open_source_solvers]->avalanche-lib==0.6.0a0)\n",
            "  Downloading highspy-1.8.1-cp310-cp310-manylinux_2_17_x86_64.manylinux2014_x86_64.whl.metadata (10 kB)\n",
            "Collecting qpalm>=1.2.1 (from qpsolvers[open_source_solvers]->avalanche-lib==0.6.0a0)\n",
            "  Downloading qpalm-1.2.5-cp310-cp310-manylinux_2_17_x86_64.whl.metadata (13 kB)\n",
            "Collecting daqp>=0.5.1 (from qpsolvers[open_source_solvers]->avalanche-lib==0.6.0a0)\n",
            "  Downloading daqp-0.6.0-cp310-cp310-manylinux_2_17_x86_64.manylinux2014_x86_64.whl.metadata (1.2 kB)\n",
            "Requirement already satisfied: clarabel>=0.4.1 in /usr/local/lib/python3.10/dist-packages (from qpsolvers[open_source_solvers]->avalanche-lib==0.6.0a0) (0.9.0)\n",
            "Collecting piqp>=0.2.2 (from qpsolvers[open_source_solvers]->avalanche-lib==0.6.0a0)\n",
            "  Downloading piqp-0.4.2-cp310-cp310-manylinux_2_17_x86_64.manylinux2014_x86_64.whl.metadata (4.9 kB)\n",
            "Requirement already satisfied: ecos>=2.0.8 in /usr/local/lib/python3.10/dist-packages (from qpsolvers[open_source_solvers]->avalanche-lib==0.6.0a0) (2.0.14)\n",
            "Requirement already satisfied: osqp>=0.6.2 in /usr/local/lib/python3.10/dist-packages (from qpsolvers[open_source_solvers]->avalanche-lib==0.6.0a0) (0.6.7.post3)\n",
            "Collecting qpax>=0.0.9 (from qpsolvers[open_source_solvers]->avalanche-lib==0.6.0a0)\n",
            "  Downloading qpax-0.0.9-py3-none-any.whl.metadata (4.7 kB)\n",
            "Collecting proxsuite>=0.2.9 (from qpsolvers[open_source_solvers]->avalanche-lib==0.6.0a0)\n",
            "  Downloading proxsuite-0.6.7-0-cp310-cp310-manylinux_2_17_x86_64.whl.metadata (12 kB)\n",
            "Requirement already satisfied: scs>=3.2.0 in /usr/local/lib/python3.10/dist-packages (from qpsolvers[open_source_solvers]->avalanche-lib==0.6.0a0) (3.2.7)\n",
            "Requirement already satisfied: PySocks!=1.5.7,>=1.5.6 in /usr/local/lib/python3.10/dist-packages (from requests[socks]->gdown->avalanche-lib==0.6.0a0) (1.7.1)\n",
            "Requirement already satisfied: smmap<6,>=3.0.1 in /usr/local/lib/python3.10/dist-packages (from gitdb<5,>=4.0.1->gitpython!=3.1.29,>=1.0.0->wandb->avalanche-lib==0.6.0a0) (5.0.1)\n",
            "Requirement already satisfied: qdldl in /usr/local/lib/python3.10/dist-packages (from osqp>=0.6.2->qpsolvers[open_source_solvers]->avalanche-lib==0.6.0a0) (0.1.7.post4)\n",
            "Collecting cmeel (from proxsuite>=0.2.9->qpsolvers[open_source_solvers]->avalanche-lib==0.6.0a0)\n",
            "  Downloading cmeel-0.53.3-py3-none-any.whl.metadata (5.1 kB)\n",
            "Requirement already satisfied: jax>=0.4.0 in /usr/local/lib/python3.10/dist-packages (from qpax>=0.0.9->qpsolvers[open_source_solvers]->avalanche-lib==0.6.0a0) (0.4.33)\n",
            "Requirement already satisfied: jaxlib>=0.4.0 in /usr/local/lib/python3.10/dist-packages (from qpax>=0.0.9->qpsolvers[open_source_solvers]->avalanche-lib==0.6.0a0) (0.4.33)\n",
            "Requirement already satisfied: ml-dtypes>=0.2.0 in /usr/local/lib/python3.10/dist-packages (from jax>=0.4.0->qpax>=0.0.9->qpsolvers[open_source_solvers]->avalanche-lib==0.6.0a0) (0.4.1)\n",
            "Requirement already satisfied: opt-einsum in /usr/local/lib/python3.10/dist-packages (from jax>=0.4.0->qpax>=0.0.9->qpsolvers[open_source_solvers]->avalanche-lib==0.6.0a0) (3.4.0)\n",
            "Requirement already satisfied: tomli<3.0.0,>=2.0.1 in /usr/local/lib/python3.10/dist-packages (from cmeel->proxsuite>=0.2.9->qpsolvers[open_source_solvers]->avalanche-lib==0.6.0a0) (2.1.0)\n",
            "Downloading dill-0.3.9-py3-none-any.whl (119 kB)\n",
            "\u001b[2K   \u001b[90m━━━━━━━━━━━━━━━━━━━━━━━━━━━━━━━━━━━━━━━━\u001b[0m \u001b[32m119.4/119.4 kB\u001b[0m \u001b[31m9.8 MB/s\u001b[0m eta \u001b[36m0:00:00\u001b[0m\n",
            "\u001b[?25hDownloading pytorchcv-0.0.73-py2.py3-none-any.whl (585 kB)\n",
            "\u001b[2K   \u001b[90m━━━━━━━━━━━━━━━━━━━━━━━━━━━━━━━━━━━━━━━━\u001b[0m \u001b[32m585.2/585.2 kB\u001b[0m \u001b[31m24.1 MB/s\u001b[0m eta \u001b[36m0:00:00\u001b[0m\n",
            "\u001b[?25hDownloading torchmetrics-1.6.0-py3-none-any.whl (926 kB)\n",
            "\u001b[2K   \u001b[90m━━━━━━━━━━━━━━━━━━━━━━━━━━━━━━━━━━━━━━━━\u001b[0m \u001b[32m926.4/926.4 kB\u001b[0m \u001b[31m37.0 MB/s\u001b[0m eta \u001b[36m0:00:00\u001b[0m\n",
            "\u001b[?25hDownloading lightning_utilities-0.11.9-py3-none-any.whl (28 kB)\n",
            "Downloading qpsolvers-4.4.0-py3-none-any.whl (82 kB)\n",
            "\u001b[2K   \u001b[90m━━━━━━━━━━━━━━━━━━━━━━━━━━━━━━━━━━━━━━━━\u001b[0m \u001b[32m82.2/82.2 kB\u001b[0m \u001b[31m7.0 MB/s\u001b[0m eta \u001b[36m0:00:00\u001b[0m\n",
            "\u001b[?25hDownloading daqp-0.6.0-cp310-cp310-manylinux_2_17_x86_64.manylinux2014_x86_64.whl (558 kB)\n",
            "\u001b[2K   \u001b[90m━━━━━━━━━━━━━━━━━━━━━━━━━━━━━━━━━━━━━━━━\u001b[0m \u001b[32m558.6/558.6 kB\u001b[0m \u001b[31m10.2 MB/s\u001b[0m eta \u001b[36m0:00:00\u001b[0m\n",
            "\u001b[?25hDownloading highspy-1.8.1-cp310-cp310-manylinux_2_17_x86_64.manylinux2014_x86_64.whl (2.2 MB)\n",
            "\u001b[2K   \u001b[90m━━━━━━━━━━━━━━━━━━━━━━━━━━━━━━━━━━━━━━━━\u001b[0m \u001b[32m2.2/2.2 MB\u001b[0m \u001b[31m26.1 MB/s\u001b[0m eta \u001b[36m0:00:00\u001b[0m\n",
            "\u001b[?25hDownloading piqp-0.4.2-cp310-cp310-manylinux_2_17_x86_64.manylinux2014_x86_64.whl (979 kB)\n",
            "\u001b[2K   \u001b[90m━━━━━━━━━━━━━━━━━━━━━━━━━━━━━━━━━━━━━━━━\u001b[0m \u001b[32m979.8/979.8 kB\u001b[0m \u001b[31m45.4 MB/s\u001b[0m eta \u001b[36m0:00:00\u001b[0m\n",
            "\u001b[?25hDownloading proxsuite-0.6.7-0-cp310-cp310-manylinux_2_17_x86_64.whl (2.7 MB)\n",
            "\u001b[2K   \u001b[90m━━━━━━━━━━━━━━━━━━━━━━━━━━━━━━━━━━━━━━━━\u001b[0m \u001b[32m2.7/2.7 MB\u001b[0m \u001b[31m60.1 MB/s\u001b[0m eta \u001b[36m0:00:00\u001b[0m\n",
            "\u001b[?25hDownloading qpalm-1.2.5-cp310-cp310-manylinux_2_17_x86_64.whl (1.4 MB)\n",
            "\u001b[2K   \u001b[90m━━━━━━━━━━━━━━━━━━━━━━━━━━━━━━━━━━━━━━━━\u001b[0m \u001b[32m1.4/1.4 MB\u001b[0m \u001b[31m45.3 MB/s\u001b[0m eta \u001b[36m0:00:00\u001b[0m\n",
            "\u001b[?25hDownloading qpax-0.0.9-py3-none-any.whl (11 kB)\n",
            "Downloading quadprog-0.1.13-cp310-cp310-manylinux_2_17_x86_64.manylinux2014_x86_64.whl (505 kB)\n",
            "\u001b[2K   \u001b[90m━━━━━━━━━━━━━━━━━━━━━━━━━━━━━━━━━━━━━━━━\u001b[0m \u001b[32m505.9/505.9 kB\u001b[0m \u001b[31m31.8 MB/s\u001b[0m eta \u001b[36m0:00:00\u001b[0m\n",
            "\u001b[?25hDownloading cmeel-0.53.3-py3-none-any.whl (20 kB)\n",
            "Building wheels for collected packages: avalanche-lib, gputil\n",
            "  Building wheel for avalanche-lib (pyproject.toml) ... \u001b[?25l\u001b[?25hdone\n",
            "  Created wheel for avalanche-lib: filename=avalanche_lib-0.6.0a0-py3-none-any.whl size=988621 sha256=b81faf83246dba1e302f2eb36bb0f9caa63157a9b1a81fa532a1f1f161227821\n",
            "  Stored in directory: /tmp/pip-ephem-wheel-cache-ki2qup1q/wheels/b9/ef/1f/e002050b2856b248d8a06d1e0c30a722d6d8a73a22d0b3e9c2\n",
            "  Building wheel for gputil (setup.py) ... \u001b[?25l\u001b[?25hdone\n",
            "  Created wheel for gputil: filename=GPUtil-1.4.0-py3-none-any.whl size=7392 sha256=55cd21e7a89d9c1772aadcfaa9b69f1fd7add5f2a79f4f6ac6b1ab75e1b58dd9\n",
            "  Stored in directory: /root/.cache/pip/wheels/a9/8a/bd/81082387151853ab8b6b3ef33426e98f5cbfebc3c397a9d4d0\n",
            "Successfully built avalanche-lib gputil\n",
            "Installing collected packages: gputil, daqp, quadprog, piqp, lightning-utilities, highspy, dill, cmeel, qpsolvers, qpalm, proxsuite, torchmetrics, qpax, pytorchcv, avalanche-lib\n",
            "Successfully installed avalanche-lib-0.6.0a0 cmeel-0.53.3 daqp-0.6.0 dill-0.3.9 gputil-1.4.0 highspy-1.8.1 lightning-utilities-0.11.9 piqp-0.4.2 proxsuite-0.6.7 pytorchcv-0.0.73 qpalm-1.2.5 qpax-0.0.9 qpsolvers-4.4.0 quadprog-0.1.13 torchmetrics-1.6.0\n"
          ]
        }
      ],
      "source": [
        "#Install Avalanche\n",
        "!pip install git+https://github.com/ContinualAI/avalanche.git"
      ]
    },
    {
      "cell_type": "code",
      "source": [
        "import avalanche"
      ],
      "metadata": {
        "id": "daKfjJpiLf4U"
      },
      "execution_count": null,
      "outputs": []
    },
    {
      "cell_type": "code",
      "source": [
        "avalanche.__version__"
      ],
      "metadata": {
        "colab": {
          "base_uri": "https://localhost:8080/",
          "height": 35
        },
        "id": "BUwNheI9L_Je",
        "outputId": "3370e8d7-bdc2-41fb-adfe-fa88232935be"
      },
      "execution_count": null,
      "outputs": [
        {
          "output_type": "execute_result",
          "data": {
            "text/plain": [
              "'0.6.0a'"
            ],
            "application/vnd.google.colaboratory.intrinsic+json": {
              "type": "string"
            }
          },
          "metadata": {},
          "execution_count": 3
        }
      ]
    },
    {
      "cell_type": "markdown",
      "source": [
        "## Split MNIST using GEM"
      ],
      "metadata": {
        "id": "VP5eIkpUMkkm"
      }
    },
    {
      "cell_type": "code",
      "source": [
        "from __future__ import absolute_import\n",
        "from __future__ import division\n",
        "from __future__ import print_function\n",
        "\n",
        "import argparse\n",
        "import torch\n",
        "from torch.nn import CrossEntropyLoss\n",
        "from torch.optim import SGD\n",
        "\n",
        "from avalanche.benchmarks.classic import SplitMNIST\n",
        "from avalanche.models import SimpleMLP\n",
        "from avalanche.training.supervised import GEM\n",
        "from avalanche.evaluation.metrics import (\n",
        "    forgetting_metrics,\n",
        "    accuracy_metrics,\n",
        "    bwt_metrics\n",
        ")\n",
        "\n",
        "from avalanche.logging import InteractiveLogger\n",
        "from avalanche.training.plugins import EvaluationPlugin\n"
      ],
      "metadata": {
        "id": "6ZBv93X6MgXV"
      },
      "execution_count": null,
      "outputs": []
    },
    {
      "cell_type": "code",
      "source": [
        "# Device\n",
        "device = torch.device(\"cuda\" if torch.cuda.is_available() else \"cpu\")"
      ],
      "metadata": {
        "id": "be9k6H4lNzqT"
      },
      "execution_count": null,
      "outputs": []
    },
    {
      "cell_type": "code",
      "source": [
        "# Model\n",
        "model = SimpleMLP(num_classes = 10)"
      ],
      "metadata": {
        "id": "mpiBwRjRMoHb"
      },
      "execution_count": null,
      "outputs": []
    },
    {
      "cell_type": "code",
      "source": [
        "# CL Benchmark Creation\n",
        "scenario = SplitMNIST(n_experiences=5)\n",
        "train_stream = scenario.train_stream\n",
        "test_stream = scenario.test_stream"
      ],
      "metadata": {
        "id": "GnbNdEmjM5GF",
        "colab": {
          "base_uri": "https://localhost:8080/"
        },
        "outputId": "9f41b6b6-2df2-4911-ae67-c41a86afd987"
      },
      "execution_count": null,
      "outputs": [
        {
          "output_type": "stream",
          "name": "stdout",
          "text": [
            "Downloading http://yann.lecun.com/exdb/mnist/train-images-idx3-ubyte.gz\n",
            "Failed to download (trying next):\n",
            "HTTP Error 403: Forbidden\n",
            "\n",
            "Downloading https://ossci-datasets.s3.amazonaws.com/mnist/train-images-idx3-ubyte.gz\n",
            "Downloading https://ossci-datasets.s3.amazonaws.com/mnist/train-images-idx3-ubyte.gz to /root/.avalanche/data/mnist/MNIST/raw/train-images-idx3-ubyte.gz\n"
          ]
        },
        {
          "output_type": "stream",
          "name": "stderr",
          "text": [
            "100%|██████████| 9.91M/9.91M [00:00<00:00, 16.4MB/s]\n"
          ]
        },
        {
          "output_type": "stream",
          "name": "stdout",
          "text": [
            "Extracting /root/.avalanche/data/mnist/MNIST/raw/train-images-idx3-ubyte.gz to /root/.avalanche/data/mnist/MNIST/raw\n",
            "\n",
            "Downloading http://yann.lecun.com/exdb/mnist/train-labels-idx1-ubyte.gz\n",
            "Failed to download (trying next):\n",
            "HTTP Error 403: Forbidden\n",
            "\n",
            "Downloading https://ossci-datasets.s3.amazonaws.com/mnist/train-labels-idx1-ubyte.gz\n",
            "Downloading https://ossci-datasets.s3.amazonaws.com/mnist/train-labels-idx1-ubyte.gz to /root/.avalanche/data/mnist/MNIST/raw/train-labels-idx1-ubyte.gz\n"
          ]
        },
        {
          "output_type": "stream",
          "name": "stderr",
          "text": [
            "100%|██████████| 28.9k/28.9k [00:00<00:00, 507kB/s]\n"
          ]
        },
        {
          "output_type": "stream",
          "name": "stdout",
          "text": [
            "Extracting /root/.avalanche/data/mnist/MNIST/raw/train-labels-idx1-ubyte.gz to /root/.avalanche/data/mnist/MNIST/raw\n",
            "\n",
            "Downloading http://yann.lecun.com/exdb/mnist/t10k-images-idx3-ubyte.gz\n",
            "Failed to download (trying next):\n",
            "HTTP Error 403: Forbidden\n",
            "\n",
            "Downloading https://ossci-datasets.s3.amazonaws.com/mnist/t10k-images-idx3-ubyte.gz\n",
            "Downloading https://ossci-datasets.s3.amazonaws.com/mnist/t10k-images-idx3-ubyte.gz to /root/.avalanche/data/mnist/MNIST/raw/t10k-images-idx3-ubyte.gz\n"
          ]
        },
        {
          "output_type": "stream",
          "name": "stderr",
          "text": [
            "100%|██████████| 1.65M/1.65M [00:00<00:00, 3.74MB/s]\n"
          ]
        },
        {
          "output_type": "stream",
          "name": "stdout",
          "text": [
            "Extracting /root/.avalanche/data/mnist/MNIST/raw/t10k-images-idx3-ubyte.gz to /root/.avalanche/data/mnist/MNIST/raw\n",
            "\n",
            "Downloading http://yann.lecun.com/exdb/mnist/t10k-labels-idx1-ubyte.gz\n",
            "Failed to download (trying next):\n",
            "HTTP Error 403: Forbidden\n",
            "\n",
            "Downloading https://ossci-datasets.s3.amazonaws.com/mnist/t10k-labels-idx1-ubyte.gz\n",
            "Downloading https://ossci-datasets.s3.amazonaws.com/mnist/t10k-labels-idx1-ubyte.gz to /root/.avalanche/data/mnist/MNIST/raw/t10k-labels-idx1-ubyte.gz\n"
          ]
        },
        {
          "output_type": "stream",
          "name": "stderr",
          "text": [
            "100%|██████████| 4.54k/4.54k [00:00<00:00, 8.86MB/s]\n"
          ]
        },
        {
          "output_type": "stream",
          "name": "stdout",
          "text": [
            "Extracting /root/.avalanche/data/mnist/MNIST/raw/t10k-labels-idx1-ubyte.gz to /root/.avalanche/data/mnist/MNIST/raw\n",
            "\n"
          ]
        }
      ]
    },
    {
      "cell_type": "code",
      "source": [
        "# Prepare for training & testing\n",
        "optimizer = SGD(model.parameters(), lr = 0.001, momentum = 0.9)\n",
        "criterion = CrossEntropyLoss()"
      ],
      "metadata": {
        "id": "5vQEHaTHM8vy"
      },
      "execution_count": null,
      "outputs": []
    },
    {
      "cell_type": "code",
      "source": [
        "interactive_logger = InteractiveLogger()\n",
        "\n",
        "eval_plugin = EvaluationPlugin(\n",
        "    accuracy_metrics(minibatch=True, epoch=True, experience=True, stream=True),\n",
        "    forgetting_metrics(experience=True, stream=True),\n",
        "    bwt_metrics(experience=True, stream=True),\n",
        "    loggers=[interactive_logger]\n",
        ")"
      ],
      "metadata": {
        "id": "7p9MeUKJNB-e"
      },
      "execution_count": null,
      "outputs": []
    },
    {
      "cell_type": "code",
      "source": [
        "# Choose a CL strategy\n",
        "strategy = GEM(\n",
        "    model=model,\n",
        "    optimizer=optimizer,\n",
        "    criterion=criterion,\n",
        "    patterns_per_exp=100,\n",
        "    train_mb_size=512,\n",
        "    train_epochs=5,\n",
        "    eval_mb_size=128,\n",
        "    device=device,\n",
        "    evaluator=eval_plugin\n",
        ")"
      ],
      "metadata": {
        "id": "trlFzicuP-Bj"
      },
      "execution_count": null,
      "outputs": []
    },
    {
      "cell_type": "code",
      "source": [
        "# train and test loop - GEM\n",
        "for i,train_task in enumerate(train_stream):\n",
        "    print(\"--------------------------------------------------------------------\")\n",
        "    print(\"Starting training for {}\".format(i))\n",
        "    strategy.train(train_task)\n",
        "    print(\"--------------------------------------------------------------------\")\n",
        "    print(\"Starting evaluation for {}\".format(i))\n",
        "    strategy.eval(test_stream)"
      ],
      "metadata": {
        "colab": {
          "base_uri": "https://localhost:8080/"
        },
        "id": "bknzFuSNVOyu",
        "outputId": "03be3830-60d4-4d6e-988c-7d8f6cbd885b"
      },
      "execution_count": null,
      "outputs": [
        {
          "output_type": "stream",
          "name": "stdout",
          "text": [
            "--------------------------------------------------------------------\n",
            "Starting training for 0\n",
            "-- >> Start of training phase << --\n",
            "100%|██████████| 24/24 [00:02<00:00,  8.24it/s]\n",
            "Epoch 0 ended.\n",
            "\tTop1_Acc_Epoch/train_phase/train_stream/Task000 = 0.6173\n",
            "\tTop1_Acc_MB/train_phase/train_stream/Task000 = 0.8584\n",
            "100%|██████████| 24/24 [00:03<00:00,  7.42it/s]\n",
            "Epoch 1 ended.\n",
            "\tTop1_Acc_Epoch/train_phase/train_stream/Task000 = 0.8931\n",
            "\tTop1_Acc_MB/train_phase/train_stream/Task000 = 0.8904\n",
            "100%|██████████| 24/24 [00:03<00:00,  6.36it/s]\n",
            "Epoch 2 ended.\n",
            "\tTop1_Acc_Epoch/train_phase/train_stream/Task000 = 0.9193\n",
            "\tTop1_Acc_MB/train_phase/train_stream/Task000 = 0.9041\n",
            "100%|██████████| 24/24 [00:03<00:00,  7.81it/s]\n",
            "Epoch 3 ended.\n",
            "\tTop1_Acc_Epoch/train_phase/train_stream/Task000 = 0.9275\n",
            "\tTop1_Acc_MB/train_phase/train_stream/Task000 = 0.9155\n",
            "100%|██████████| 24/24 [00:02<00:00,  8.29it/s]\n",
            "Epoch 4 ended.\n",
            "\tTop1_Acc_Epoch/train_phase/train_stream/Task000 = 0.9329\n",
            "\tTop1_Acc_MB/train_phase/train_stream/Task000 = 0.9521\n",
            "-- >> End of training phase << --\n",
            "--------------------------------------------------------------------\n",
            "Starting evaluation for 0\n",
            "-- >> Start of eval phase << --\n",
            "-- Starting eval on experience 0 (Task 0) from test stream --\n",
            "100%|██████████| 16/16 [00:00<00:00, 28.02it/s]\n",
            "> Eval on experience 0 (Task 0) from test stream ended.\n",
            "\tTop1_Acc_Exp/eval_phase/test_stream/Task000/Exp000 = 0.9509\n",
            "-- Starting eval on experience 1 (Task 0) from test stream --\n",
            "100%|██████████| 15/15 [00:00<00:00, 31.92it/s]\n",
            "> Eval on experience 1 (Task 0) from test stream ended.\n",
            "\tTop1_Acc_Exp/eval_phase/test_stream/Task000/Exp001 = 0.0000\n",
            "-- Starting eval on experience 2 (Task 0) from test stream --\n",
            "100%|██████████| 16/16 [00:00<00:00, 28.36it/s]\n",
            "> Eval on experience 2 (Task 0) from test stream ended.\n",
            "\tTop1_Acc_Exp/eval_phase/test_stream/Task000/Exp002 = 0.0000\n",
            "-- Starting eval on experience 3 (Task 0) from test stream --\n",
            "100%|██████████| 17/17 [00:00<00:00, 33.54it/s]\n",
            "> Eval on experience 3 (Task 0) from test stream ended.\n",
            "\tTop1_Acc_Exp/eval_phase/test_stream/Task000/Exp003 = 0.0000\n",
            "-- Starting eval on experience 4 (Task 0) from test stream --\n",
            "100%|██████████| 16/16 [00:00<00:00, 29.24it/s]\n",
            "> Eval on experience 4 (Task 0) from test stream ended.\n",
            "\tTop1_Acc_Exp/eval_phase/test_stream/Task000/Exp004 = 0.0000\n",
            "-- >> End of eval phase << --\n",
            "\tStreamBWT/eval_phase/test_stream = 0.0000\n",
            "\tStreamForgetting/eval_phase/test_stream = 0.0000\n",
            "\tTop1_Acc_Stream/eval_phase/test_stream/Task000 = 0.1937\n",
            "--------------------------------------------------------------------\n",
            "Starting training for 1\n",
            "-- >> Start of training phase << --\n",
            "100%|██████████| 23/23 [00:05<00:00,  4.58it/s]\n",
            "Epoch 0 ended.\n",
            "\tTop1_Acc_Epoch/train_phase/train_stream/Task000 = 0.4148\n",
            "\tTop1_Acc_MB/train_phase/train_stream/Task000 = 0.8933\n",
            "100%|██████████| 23/23 [00:03<00:00,  6.36it/s]\n",
            "Epoch 1 ended.\n",
            "\tTop1_Acc_Epoch/train_phase/train_stream/Task000 = 0.9329\n",
            "\tTop1_Acc_MB/train_phase/train_stream/Task000 = 0.9600\n",
            "100%|██████████| 23/23 [00:03<00:00,  6.41it/s]\n",
            "Epoch 2 ended.\n",
            "\tTop1_Acc_Epoch/train_phase/train_stream/Task000 = 0.9336\n",
            "\tTop1_Acc_MB/train_phase/train_stream/Task000 = 0.8933\n",
            "100%|██████████| 23/23 [00:04<00:00,  4.64it/s]\n",
            "Epoch 3 ended.\n",
            "\tTop1_Acc_Epoch/train_phase/train_stream/Task000 = 0.9451\n",
            "\tTop1_Acc_MB/train_phase/train_stream/Task000 = 0.9467\n",
            "100%|██████████| 23/23 [00:04<00:00,  5.28it/s]\n",
            "Epoch 4 ended.\n",
            "\tTop1_Acc_Epoch/train_phase/train_stream/Task000 = 0.9493\n",
            "\tTop1_Acc_MB/train_phase/train_stream/Task000 = 0.9600\n",
            "-- >> End of training phase << --\n",
            "--------------------------------------------------------------------\n",
            "Starting evaluation for 1\n",
            "-- >> Start of eval phase << --\n",
            "-- Starting eval on experience 0 (Task 0) from test stream --\n",
            "100%|██████████| 16/16 [00:00<00:00, 32.37it/s]\n",
            "> Eval on experience 0 (Task 0) from test stream ended.\n",
            "\tExperienceBWT/eval_phase/test_stream/Task000/Exp000 = -0.0314\n",
            "\tExperienceForgetting/eval_phase/test_stream/Task000/Exp000 = 0.0314\n",
            "\tTop1_Acc_Exp/eval_phase/test_stream/Task000/Exp000 = 0.9195\n",
            "-- Starting eval on experience 1 (Task 0) from test stream --\n",
            "100%|██████████| 15/15 [00:00<00:00, 29.26it/s]\n",
            "> Eval on experience 1 (Task 0) from test stream ended.\n",
            "\tTop1_Acc_Exp/eval_phase/test_stream/Task000/Exp001 = 0.9557\n",
            "-- Starting eval on experience 2 (Task 0) from test stream --\n",
            "100%|██████████| 16/16 [00:00<00:00, 32.24it/s]\n",
            "> Eval on experience 2 (Task 0) from test stream ended.\n",
            "\tTop1_Acc_Exp/eval_phase/test_stream/Task000/Exp002 = 0.0000\n",
            "-- Starting eval on experience 3 (Task 0) from test stream --\n",
            "100%|██████████| 17/17 [00:00<00:00, 29.54it/s]\n",
            "> Eval on experience 3 (Task 0) from test stream ended.\n",
            "\tTop1_Acc_Exp/eval_phase/test_stream/Task000/Exp003 = 0.0000\n",
            "-- Starting eval on experience 4 (Task 0) from test stream --\n",
            "100%|██████████| 16/16 [00:00<00:00, 27.68it/s]\n",
            "> Eval on experience 4 (Task 0) from test stream ended.\n",
            "\tTop1_Acc_Exp/eval_phase/test_stream/Task000/Exp004 = 0.0000\n",
            "-- >> End of eval phase << --\n",
            "\tStreamBWT/eval_phase/test_stream = -0.0314\n",
            "\tStreamForgetting/eval_phase/test_stream = 0.0314\n",
            "\tTop1_Acc_Stream/eval_phase/test_stream/Task000 = 0.3641\n",
            "--------------------------------------------------------------------\n",
            "Starting training for 2\n",
            "-- >> Start of training phase << --\n",
            "100%|██████████| 24/24 [00:03<00:00,  6.14it/s]\n",
            "Epoch 0 ended.\n",
            "\tTop1_Acc_Epoch/train_phase/train_stream/Task000 = 0.3179\n",
            "\tTop1_Acc_MB/train_phase/train_stream/Task000 = 0.9394\n",
            "100%|██████████| 24/24 [00:05<00:00,  4.44it/s]\n",
            "Epoch 1 ended.\n",
            "\tTop1_Acc_Epoch/train_phase/train_stream/Task000 = 0.8896\n",
            "\tTop1_Acc_MB/train_phase/train_stream/Task000 = 0.8788\n",
            "100%|██████████| 24/24 [00:03<00:00,  6.04it/s]\n",
            "Epoch 2 ended.\n",
            "\tTop1_Acc_Epoch/train_phase/train_stream/Task000 = 0.8862\n",
            "\tTop1_Acc_MB/train_phase/train_stream/Task000 = 1.0000\n",
            "100%|██████████| 24/24 [00:03<00:00,  6.12it/s]\n",
            "Epoch 3 ended.\n",
            "\tTop1_Acc_Epoch/train_phase/train_stream/Task000 = 0.9035\n",
            "\tTop1_Acc_MB/train_phase/train_stream/Task000 = 0.9394\n",
            "100%|██████████| 24/24 [00:05<00:00,  4.40it/s]\n",
            "Epoch 4 ended.\n",
            "\tTop1_Acc_Epoch/train_phase/train_stream/Task000 = 0.9107\n",
            "\tTop1_Acc_MB/train_phase/train_stream/Task000 = 1.0000\n",
            "-- >> End of training phase << --\n",
            "--------------------------------------------------------------------\n",
            "Starting evaluation for 2\n",
            "-- >> Start of eval phase << --\n",
            "-- Starting eval on experience 0 (Task 0) from test stream --\n",
            "100%|██████████| 16/16 [00:00<00:00, 30.85it/s]\n",
            "> Eval on experience 0 (Task 0) from test stream ended.\n",
            "\tExperienceBWT/eval_phase/test_stream/Task000/Exp000 = -0.0574\n",
            "\tExperienceForgetting/eval_phase/test_stream/Task000/Exp000 = 0.0574\n",
            "\tTop1_Acc_Exp/eval_phase/test_stream/Task000/Exp000 = 0.8935\n",
            "-- Starting eval on experience 1 (Task 0) from test stream --\n",
            "100%|██████████| 15/15 [00:00<00:00, 30.52it/s]\n",
            "> Eval on experience 1 (Task 0) from test stream ended.\n",
            "\tExperienceBWT/eval_phase/test_stream/Task000/Exp001 = -0.0757\n",
            "\tExperienceForgetting/eval_phase/test_stream/Task000/Exp001 = 0.0757\n",
            "\tTop1_Acc_Exp/eval_phase/test_stream/Task000/Exp001 = 0.8800\n",
            "-- Starting eval on experience 2 (Task 0) from test stream --\n",
            "100%|██████████| 16/16 [00:00<00:00, 28.33it/s]\n",
            "> Eval on experience 2 (Task 0) from test stream ended.\n",
            "\tTop1_Acc_Exp/eval_phase/test_stream/Task000/Exp002 = 0.9242\n",
            "-- Starting eval on experience 3 (Task 0) from test stream --\n",
            "100%|██████████| 17/17 [00:00<00:00, 32.07it/s]\n",
            "> Eval on experience 3 (Task 0) from test stream ended.\n",
            "\tTop1_Acc_Exp/eval_phase/test_stream/Task000/Exp003 = 0.0000\n",
            "-- Starting eval on experience 4 (Task 0) from test stream --\n",
            "100%|██████████| 16/16 [00:00<00:00, 29.27it/s]\n",
            "> Eval on experience 4 (Task 0) from test stream ended.\n",
            "\tTop1_Acc_Exp/eval_phase/test_stream/Task000/Exp004 = 0.0000\n",
            "-- >> End of eval phase << --\n",
            "\tStreamBWT/eval_phase/test_stream = -0.0666\n",
            "\tStreamForgetting/eval_phase/test_stream = 0.0666\n",
            "\tTop1_Acc_Stream/eval_phase/test_stream/Task000 = 0.5302\n",
            "--------------------------------------------------------------------\n",
            "Starting training for 3\n",
            "-- >> Start of training phase << --\n",
            "100%|██████████| 25/25 [00:04<00:00,  5.54it/s]\n",
            "Epoch 0 ended.\n",
            "\tTop1_Acc_Epoch/train_phase/train_stream/Task000 = 0.3828\n",
            "\tTop1_Acc_MB/train_phase/train_stream/Task000 = 0.9730\n",
            "100%|██████████| 25/25 [00:05<00:00,  4.77it/s]\n",
            "Epoch 1 ended.\n",
            "\tTop1_Acc_Epoch/train_phase/train_stream/Task000 = 0.9389\n",
            "\tTop1_Acc_MB/train_phase/train_stream/Task000 = 0.9189\n",
            "100%|██████████| 25/25 [00:04<00:00,  5.17it/s]\n",
            "Epoch 2 ended.\n",
            "\tTop1_Acc_Epoch/train_phase/train_stream/Task000 = 0.9463\n",
            "\tTop1_Acc_MB/train_phase/train_stream/Task000 = 0.9291\n",
            "100%|██████████| 25/25 [00:04<00:00,  5.61it/s]\n",
            "Epoch 3 ended.\n",
            "\tTop1_Acc_Epoch/train_phase/train_stream/Task000 = 0.9522\n",
            "\tTop1_Acc_MB/train_phase/train_stream/Task000 = 0.9527\n",
            "100%|██████████| 25/25 [00:06<00:00,  4.09it/s]\n",
            "Epoch 4 ended.\n",
            "\tTop1_Acc_Epoch/train_phase/train_stream/Task000 = 0.9585\n",
            "\tTop1_Acc_MB/train_phase/train_stream/Task000 = 0.9730\n",
            "-- >> End of training phase << --\n",
            "--------------------------------------------------------------------\n",
            "Starting evaluation for 3\n",
            "-- >> Start of eval phase << --\n",
            "-- Starting eval on experience 0 (Task 0) from test stream --\n",
            "100%|██████████| 16/16 [00:00<00:00, 30.04it/s]\n",
            "> Eval on experience 0 (Task 0) from test stream ended.\n",
            "\tExperienceBWT/eval_phase/test_stream/Task000/Exp000 = -0.1095\n",
            "\tExperienceForgetting/eval_phase/test_stream/Task000/Exp000 = 0.1095\n",
            "\tTop1_Acc_Exp/eval_phase/test_stream/Task000/Exp000 = 0.8414\n",
            "-- Starting eval on experience 1 (Task 0) from test stream --\n",
            "100%|██████████| 15/15 [00:00<00:00, 32.49it/s]\n",
            "> Eval on experience 1 (Task 0) from test stream ended.\n",
            "\tExperienceBWT/eval_phase/test_stream/Task000/Exp001 = -0.0800\n",
            "\tExperienceForgetting/eval_phase/test_stream/Task000/Exp001 = 0.0800\n",
            "\tTop1_Acc_Exp/eval_phase/test_stream/Task000/Exp001 = 0.8757\n",
            "-- Starting eval on experience 2 (Task 0) from test stream --\n",
            "100%|██████████| 16/16 [00:00<00:00, 27.67it/s]\n",
            "> Eval on experience 2 (Task 0) from test stream ended.\n",
            "\tExperienceBWT/eval_phase/test_stream/Task000/Exp002 = -0.0902\n",
            "\tExperienceForgetting/eval_phase/test_stream/Task000/Exp002 = 0.0902\n",
            "\tTop1_Acc_Exp/eval_phase/test_stream/Task000/Exp002 = 0.8340\n",
            "-- Starting eval on experience 3 (Task 0) from test stream --\n",
            "100%|██████████| 17/17 [00:00<00:00, 30.72it/s]\n",
            "> Eval on experience 3 (Task 0) from test stream ended.\n",
            "\tTop1_Acc_Exp/eval_phase/test_stream/Task000/Exp003 = 0.9717\n",
            "-- Starting eval on experience 4 (Task 0) from test stream --\n",
            "100%|██████████| 16/16 [00:00<00:00, 31.44it/s]\n",
            "> Eval on experience 4 (Task 0) from test stream ended.\n",
            "\tTop1_Acc_Exp/eval_phase/test_stream/Task000/Exp004 = 0.0000\n",
            "-- >> End of eval phase << --\n",
            "\tStreamBWT/eval_phase/test_stream = -0.0932\n",
            "\tStreamForgetting/eval_phase/test_stream = 0.0932\n",
            "\tTop1_Acc_Stream/eval_phase/test_stream/Task000 = 0.7064\n",
            "--------------------------------------------------------------------\n",
            "Starting training for 4\n",
            "-- >> Start of training phase << --\n",
            "100%|██████████| 24/24 [00:04<00:00,  5.58it/s]\n",
            "Epoch 0 ended.\n",
            "\tTop1_Acc_Epoch/train_phase/train_stream/Task000 = 0.3328\n",
            "\tTop1_Acc_MB/train_phase/train_stream/Task000 = 0.9281\n",
            "100%|██████████| 24/24 [00:05<00:00,  4.64it/s]\n",
            "Epoch 1 ended.\n",
            "\tTop1_Acc_Epoch/train_phase/train_stream/Task000 = 0.9118\n",
            "\tTop1_Acc_MB/train_phase/train_stream/Task000 = 0.8957\n",
            "100%|██████████| 24/24 [00:05<00:00,  4.78it/s]\n",
            "Epoch 2 ended.\n",
            "\tTop1_Acc_Epoch/train_phase/train_stream/Task000 = 0.9047\n",
            "\tTop1_Acc_MB/train_phase/train_stream/Task000 = 0.9245\n",
            "100%|██████████| 24/24 [00:04<00:00,  5.40it/s]\n",
            "Epoch 3 ended.\n",
            "\tTop1_Acc_Epoch/train_phase/train_stream/Task000 = 0.9214\n",
            "\tTop1_Acc_MB/train_phase/train_stream/Task000 = 0.9424\n",
            "100%|██████████| 24/24 [00:05<00:00,  4.09it/s]\n",
            "Epoch 4 ended.\n",
            "\tTop1_Acc_Epoch/train_phase/train_stream/Task000 = 0.9292\n",
            "\tTop1_Acc_MB/train_phase/train_stream/Task000 = 0.9388\n",
            "-- >> End of training phase << --\n",
            "--------------------------------------------------------------------\n",
            "Starting evaluation for 4\n",
            "-- >> Start of eval phase << --\n",
            "-- Starting eval on experience 0 (Task 0) from test stream --\n",
            "100%|██████████| 16/16 [00:00<00:00, 20.40it/s]\n",
            "> Eval on experience 0 (Task 0) from test stream ended.\n",
            "\tExperienceBWT/eval_phase/test_stream/Task000/Exp000 = -0.0928\n",
            "\tExperienceForgetting/eval_phase/test_stream/Task000/Exp000 = 0.0928\n",
            "\tTop1_Acc_Exp/eval_phase/test_stream/Task000/Exp000 = 0.8581\n",
            "-- Starting eval on experience 1 (Task 0) from test stream --\n",
            "100%|██████████| 15/15 [00:00<00:00, 31.61it/s]\n",
            "> Eval on experience 1 (Task 0) from test stream ended.\n",
            "\tExperienceBWT/eval_phase/test_stream/Task000/Exp001 = -0.1622\n",
            "\tExperienceForgetting/eval_phase/test_stream/Task000/Exp001 = 0.1622\n",
            "\tTop1_Acc_Exp/eval_phase/test_stream/Task000/Exp001 = 0.7935\n",
            "-- Starting eval on experience 2 (Task 0) from test stream --\n",
            "100%|██████████| 16/16 [00:00<00:00, 27.43it/s]\n",
            "> Eval on experience 2 (Task 0) from test stream ended.\n",
            "\tExperienceBWT/eval_phase/test_stream/Task000/Exp002 = -0.1451\n",
            "\tExperienceForgetting/eval_phase/test_stream/Task000/Exp002 = 0.1451\n",
            "\tTop1_Acc_Exp/eval_phase/test_stream/Task000/Exp002 = 0.7792\n",
            "-- Starting eval on experience 3 (Task 0) from test stream --\n",
            "100%|██████████| 17/17 [00:00<00:00, 29.45it/s]\n",
            "> Eval on experience 3 (Task 0) from test stream ended.\n",
            "\tExperienceBWT/eval_phase/test_stream/Task000/Exp003 = -0.0203\n",
            "\tExperienceForgetting/eval_phase/test_stream/Task000/Exp003 = 0.0203\n",
            "\tTop1_Acc_Exp/eval_phase/test_stream/Task000/Exp003 = 0.9513\n",
            "-- Starting eval on experience 4 (Task 0) from test stream --\n",
            "100%|██████████| 16/16 [00:00<00:00, 29.33it/s]\n",
            "> Eval on experience 4 (Task 0) from test stream ended.\n",
            "\tTop1_Acc_Exp/eval_phase/test_stream/Task000/Exp004 = 0.9568\n",
            "-- >> End of eval phase << --\n",
            "\tStreamBWT/eval_phase/test_stream = -0.1051\n",
            "\tStreamForgetting/eval_phase/test_stream = 0.1051\n",
            "\tTop1_Acc_Stream/eval_phase/test_stream/Task000 = 0.8697\n"
          ]
        }
      ]
    },
    {
      "cell_type": "code",
      "source": [
        "import matplotlib.pyplot as plt\n",
        "import numpy as np\n",
        "\n",
        "# Provided retention accuracies\n",
        "accuracies = [\n",
        "    [0.9509, 0.0000, 0.0000, 0.0000, 0.0000],  # After Task 0\n",
        "    [0.9195, 0.9557, 0.0000, 0.0000, 0.0000],  # After Task 1\n",
        "    [0.8935, 0.8800, 0.9242, 0.0000, 0.0000],  # After Task 2\n",
        "    [0.8414, 0.8757, 0.8340, 0.9717, 0.0000],  # After Task 3\n",
        "    [0.8581, 0.7935, 0.7792, 0.9513, 0.9568]   # After Task 4\n",
        "]\n",
        "\n",
        "# Prepare the data\n",
        "accuracies = np.array(accuracies)\n",
        "tasks = ['Task 0', 'Task 1', 'Task 2', 'Task 3', 'Task 4']\n",
        "experiences = ['Exp 0', 'Exp 1', 'Exp 2', 'Exp 3', 'Exp 4']\n",
        "\n",
        "# Create the plot\n",
        "plt.figure(figsize=(12, 6))\n",
        "bar_width = 0.15\n",
        "index = np.arange(len(tasks))\n",
        "\n",
        "# Plot bars for each experience\n",
        "for i in range(len(experiences)):\n",
        "    plt.bar(index + i * bar_width, accuracies[:, i],\n",
        "            bar_width,\n",
        "            label=experiences[i],\n",
        "            alpha=0.8)\n",
        "\n",
        "plt.xlabel('Evaluation After Task')\n",
        "plt.ylabel('Accuracy')\n",
        "plt.title('Retention Accuracies Across Tasks and Experiences')\n",
        "plt.xticks(index + bar_width * 2, tasks)\n",
        "plt.legend(loc='center left', bbox_to_anchor=(1, 0.5))\n",
        "plt.tight_layout()\n",
        "plt.show()\n"
      ],
      "metadata": {
        "colab": {
          "base_uri": "https://localhost:8080/",
          "height": 607
        },
        "id": "zVrVXPC9nwUw",
        "outputId": "e8d9776b-88f6-43a1-bf7d-087fbfc21f63"
      },
      "execution_count": null,
      "outputs": [
        {
          "output_type": "display_data",
          "data": {
            "text/plain": [
              "<Figure size 1200x600 with 1 Axes>"
            ],
            "image/png": "[encoded data removed]"
          },
          "metadata": {}
        }
      ]
    }
  ]
}